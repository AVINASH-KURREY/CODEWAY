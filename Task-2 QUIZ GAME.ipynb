{
 "cells": [
  {
   "cell_type": "markdown",
   "id": "7811ffdf",
   "metadata": {},
   "source": [
    "## CODEWAY"
   ]
  },
  {
   "cell_type": "markdown",
   "id": "5ce55c66",
   "metadata": {},
   "source": [
    "## Task-2:- QUIZ GAME"
   ]
  },
  {
   "cell_type": "markdown",
   "id": "2a9f1362",
   "metadata": {},
   "source": [
    "#### Develop a quiz game that asks users multiple-choice or fill-in-the-blank questions on aspecific topic. The game should keep track of scores, provide feedback oncorrect/incorrect answers, and offer a variety of questions to make it challenging and engaging."
   ]
  },
  {
   "cell_type": "code",
   "execution_count": 1,
   "id": "b0458b5a",
   "metadata": {},
   "outputs": [
    {
     "name": "stdout",
     "output_type": "stream",
     "text": [
      "..............Welcome to the Quiz Game!............\n",
      "Answer the following questions and test your knowledge.\n",
      "Which planet is known as the Red Planet?\n",
      "A. Venus\n",
      "B. Mars\n",
      "C. Jupiter\n",
      "Your answer: a\n",
      "Incorrect! The correct answer is B.\n",
      "What is the largest mammal in the world?\n",
      "A. Elephant\n",
      "B. Blue Whale\n",
      "C. Giraffe\n",
      "Your answer: b\n",
      "Correct!\n",
      "What is the capital of France?\n",
      "A. Paris\n",
      "B. Rome\n",
      "C. Berlin\n",
      "Your answer: a\n",
      "Correct!\n",
      "Your final score is 2/3.\n",
      "Do you want to play again? (yes/no): no\n",
      "Thanks for playing!!! Goodbye!!!\n"
     ]
    }
   ],
   "source": [
    "import random\n",
    "\n",
    "class QuizGame:\n",
    "    def __init__(self):\n",
    "        self.questions = [\n",
    "            {\"question\": \"What is the capital of France?\", \"choices\": [\"A. Paris\", \"B. Rome\", \"C. Berlin\"], \"answer\": \"A\"},\n",
    "            {\"question\": \"Which planet is known as the Red Planet?\", \"choices\": [\"A. Venus\", \"B. Mars\", \"C. Jupiter\"], \"answer\": \"B\"},\n",
    "            {\"question\": \"What is the largest mammal in the world?\", \"choices\": [\"A. Elephant\", \"B. Blue Whale\", \"C. Giraffe\"], \"answer\": \"B\"}\n",
    "            # Add more questions as needed\n",
    "        ]\n",
    "        self.score = 0\n",
    "\n",
    "    def display_welcome_message(self):\n",
    "        print(\"..............Welcome to the Quiz Game!............\")\n",
    "        print(\"Answer the following questions and test your knowledge.\")\n",
    "\n",
    "    def display_question(self, q):\n",
    "        print(q[\"question\"])\n",
    "        for choice in q[\"choices\"]:\n",
    "            print(choice)\n",
    "        user_answer = input(\"Your answer: \").upper()\n",
    "        return user_answer\n",
    "\n",
    "    def evaluate_answer(self, user_answer, correct_answer):\n",
    "        if user_answer == correct_answer:\n",
    "            print(\"Correct!\")\n",
    "            self.score += 1\n",
    "        else:\n",
    "            print(f\"Incorrect! The correct answer is {correct_answer}.\")\n",
    "\n",
    "    def play_game(self):\n",
    "        self.display_welcome_message()\n",
    "        random.shuffle(self.questions)\n",
    "        \n",
    "        for question in self.questions:\n",
    "            user_answer = self.display_question(question)\n",
    "            self.evaluate_answer(user_answer, question[\"answer\"])\n",
    "\n",
    "        self.display_final_results()\n",
    "\n",
    "    def display_final_results(self):\n",
    "        print(f\"Your final score is {self.score}/{len(self.questions)}.\")\n",
    "\n",
    "    def play_again(self):\n",
    "        play_again_input = input(\"Do you want to play again? (yes/no): \").lower()\n",
    "        return play_again_input == \"yes\"\n",
    "\n",
    "# Main Program\n",
    "if __name__ == \"__main__\":\n",
    "    game = QuizGame()\n",
    "\n",
    "    while True:\n",
    "        game.play_game()\n",
    "        if not game.play_again():\n",
    "            break\n",
    "\n",
    "print(\"Thanks for playing!!! Goodbye!!!\")\n"
   ]
  },
  {
   "cell_type": "code",
   "execution_count": null,
   "id": "b51f7773",
   "metadata": {},
   "outputs": [],
   "source": []
  },
  {
   "cell_type": "code",
   "execution_count": null,
   "id": "5438af10",
   "metadata": {},
   "outputs": [],
   "source": []
  },
  {
   "cell_type": "code",
   "execution_count": null,
   "id": "3d5e0542",
   "metadata": {},
   "outputs": [],
   "source": []
  },
  {
   "cell_type": "code",
   "execution_count": null,
   "id": "de7c4d70",
   "metadata": {},
   "outputs": [],
   "source": []
  },
  {
   "cell_type": "code",
   "execution_count": null,
   "id": "a46f10bc",
   "metadata": {},
   "outputs": [],
   "source": []
  },
  {
   "cell_type": "code",
   "execution_count": null,
   "id": "1d3c4270",
   "metadata": {},
   "outputs": [],
   "source": []
  },
  {
   "cell_type": "code",
   "execution_count": null,
   "id": "a4b384c3",
   "metadata": {},
   "outputs": [],
   "source": []
  },
  {
   "cell_type": "code",
   "execution_count": null,
   "id": "360fbd37",
   "metadata": {},
   "outputs": [],
   "source": []
  },
  {
   "cell_type": "code",
   "execution_count": null,
   "id": "98d0892e",
   "metadata": {},
   "outputs": [],
   "source": []
  },
  {
   "cell_type": "code",
   "execution_count": null,
   "id": "5aa29af7",
   "metadata": {},
   "outputs": [],
   "source": []
  },
  {
   "cell_type": "code",
   "execution_count": null,
   "id": "8b63c28d",
   "metadata": {},
   "outputs": [],
   "source": []
  },
  {
   "cell_type": "code",
   "execution_count": null,
   "id": "bea26ee3",
   "metadata": {},
   "outputs": [],
   "source": []
  },
  {
   "cell_type": "code",
   "execution_count": null,
   "id": "ac22f2b9",
   "metadata": {},
   "outputs": [],
   "source": []
  },
  {
   "cell_type": "code",
   "execution_count": null,
   "id": "f4884813",
   "metadata": {},
   "outputs": [],
   "source": []
  },
  {
   "cell_type": "code",
   "execution_count": null,
   "id": "6721fcd9",
   "metadata": {},
   "outputs": [],
   "source": []
  },
  {
   "cell_type": "code",
   "execution_count": null,
   "id": "79ec7621",
   "metadata": {},
   "outputs": [],
   "source": []
  },
  {
   "cell_type": "code",
   "execution_count": null,
   "id": "30292aa0",
   "metadata": {},
   "outputs": [],
   "source": []
  },
  {
   "cell_type": "code",
   "execution_count": null,
   "id": "a192fea4",
   "metadata": {},
   "outputs": [],
   "source": []
  },
  {
   "cell_type": "code",
   "execution_count": null,
   "id": "2152274c",
   "metadata": {},
   "outputs": [],
   "source": []
  },
  {
   "cell_type": "code",
   "execution_count": null,
   "id": "36529cf3",
   "metadata": {},
   "outputs": [],
   "source": []
  },
  {
   "cell_type": "code",
   "execution_count": null,
   "id": "879c8e04",
   "metadata": {},
   "outputs": [],
   "source": []
  },
  {
   "cell_type": "code",
   "execution_count": null,
   "id": "a7b1aa63",
   "metadata": {},
   "outputs": [],
   "source": []
  },
  {
   "cell_type": "code",
   "execution_count": null,
   "id": "2fe0ca8a",
   "metadata": {},
   "outputs": [],
   "source": []
  },
  {
   "cell_type": "code",
   "execution_count": null,
   "id": "5493a87d",
   "metadata": {},
   "outputs": [],
   "source": []
  },
  {
   "cell_type": "code",
   "execution_count": null,
   "id": "23d2480d",
   "metadata": {},
   "outputs": [],
   "source": []
  },
  {
   "cell_type": "code",
   "execution_count": null,
   "id": "4405fc56",
   "metadata": {},
   "outputs": [],
   "source": []
  },
  {
   "cell_type": "code",
   "execution_count": null,
   "id": "23219740",
   "metadata": {},
   "outputs": [],
   "source": []
  },
  {
   "cell_type": "code",
   "execution_count": null,
   "id": "19baa242",
   "metadata": {},
   "outputs": [],
   "source": []
  },
  {
   "cell_type": "code",
   "execution_count": null,
   "id": "6e611228",
   "metadata": {},
   "outputs": [],
   "source": []
  },
  {
   "cell_type": "code",
   "execution_count": null,
   "id": "9d1875fc",
   "metadata": {},
   "outputs": [],
   "source": []
  },
  {
   "cell_type": "code",
   "execution_count": null,
   "id": "7e2a9d9f",
   "metadata": {},
   "outputs": [],
   "source": []
  },
  {
   "cell_type": "code",
   "execution_count": null,
   "id": "7b50f50a",
   "metadata": {},
   "outputs": [],
   "source": []
  },
  {
   "cell_type": "code",
   "execution_count": null,
   "id": "3c0f942e",
   "metadata": {},
   "outputs": [],
   "source": []
  },
  {
   "cell_type": "code",
   "execution_count": null,
   "id": "48a464a2",
   "metadata": {},
   "outputs": [],
   "source": []
  },
  {
   "cell_type": "code",
   "execution_count": null,
   "id": "5ea00cac",
   "metadata": {},
   "outputs": [],
   "source": []
  },
  {
   "cell_type": "code",
   "execution_count": null,
   "id": "78dc30f5",
   "metadata": {},
   "outputs": [],
   "source": []
  },
  {
   "cell_type": "code",
   "execution_count": null,
   "id": "74929b1e",
   "metadata": {},
   "outputs": [],
   "source": []
  },
  {
   "cell_type": "code",
   "execution_count": null,
   "id": "1648d6d7",
   "metadata": {},
   "outputs": [],
   "source": []
  },
  {
   "cell_type": "code",
   "execution_count": null,
   "id": "9c57f928",
   "metadata": {},
   "outputs": [],
   "source": []
  },
  {
   "cell_type": "code",
   "execution_count": null,
   "id": "8856b450",
   "metadata": {},
   "outputs": [],
   "source": []
  },
  {
   "cell_type": "code",
   "execution_count": null,
   "id": "97b37d3e",
   "metadata": {},
   "outputs": [],
   "source": []
  },
  {
   "cell_type": "code",
   "execution_count": null,
   "id": "a8fb08d9",
   "metadata": {},
   "outputs": [],
   "source": []
  },
  {
   "cell_type": "code",
   "execution_count": null,
   "id": "25889dfc",
   "metadata": {},
   "outputs": [],
   "source": []
  },
  {
   "cell_type": "code",
   "execution_count": null,
   "id": "34f46b32",
   "metadata": {},
   "outputs": [],
   "source": []
  },
  {
   "cell_type": "code",
   "execution_count": null,
   "id": "ed8b2e8b",
   "metadata": {},
   "outputs": [],
   "source": []
  },
  {
   "cell_type": "code",
   "execution_count": null,
   "id": "31e5bab0",
   "metadata": {},
   "outputs": [],
   "source": []
  },
  {
   "cell_type": "code",
   "execution_count": null,
   "id": "b32b0885",
   "metadata": {},
   "outputs": [],
   "source": []
  }
 ],
 "metadata": {
  "kernelspec": {
   "display_name": "Python 3 (ipykernel)",
   "language": "python",
   "name": "python3"
  },
  "language_info": {
   "codemirror_mode": {
    "name": "ipython",
    "version": 3
   },
   "file_extension": ".py",
   "mimetype": "text/x-python",
   "name": "python",
   "nbconvert_exporter": "python",
   "pygments_lexer": "ipython3",
   "version": "3.11.5"
  }
 },
 "nbformat": 4,
 "nbformat_minor": 5
}
