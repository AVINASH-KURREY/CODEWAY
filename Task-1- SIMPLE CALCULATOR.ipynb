{
 "cells": [
  {
   "cell_type": "markdown",
   "id": "f217f00d",
   "metadata": {},
   "source": [
    "## CODEWAY"
   ]
  },
  {
   "cell_type": "markdown",
   "id": "fdf3b621",
   "metadata": {},
   "source": [
    "## Task-1:- CALCULATOR"
   ]
  },
  {
   "cell_type": "markdown",
   "id": "ac0265f6",
   "metadata": {},
   "source": [
    "**Design a simple calculator with basic arithmetic operations. Prompt the\n",
    "user to input two numbers and an operation choice. Perform the\n",
    "calculation and display the result.**"
   ]
  },
  {
   "cell_type": "code",
   "execution_count": 2,
   "id": "53cdfa4b",
   "metadata": {},
   "outputs": [
    {
     "name": "stdout",
     "output_type": "stream",
     "text": [
      "Enter the first number: 500\n",
      "Enter the second number: 50\n",
      "Select operation:\n",
      "1. Addition\n",
      "2. Subtraction\n",
      "3. Multiplication\n",
      "4. Division\n",
      "Enter choice (1/2/3/4): 4\n",
      "The Answer is:- 500.0 / 50.0 = 10.0\n"
     ]
    }
   ],
   "source": [
    "# Function to add two numbers\n",
    "def add(x, y):\n",
    "    return x + y\n",
    "\n",
    "# Function to subtract two numbers\n",
    "def subtract(x, y):\n",
    "    return x - y\n",
    "\n",
    "# Function to multiply two numbers\n",
    "def multiply(x, y):\n",
    "    return x * y\n",
    "\n",
    "# Function to divide two numbers\n",
    "def divide(x, y):\n",
    "    if y != 0:\n",
    "        return x / y\n",
    "    else:\n",
    "        return \"Error: Division by zero\"\n",
    "\n",
    "# Get input from the user\n",
    "num1 = float(input(\"Enter the first number: \"))\n",
    "num2 = float(input(\"Enter the second number: \"))\n",
    "\n",
    "# Display operation choices\n",
    "print(\"Select operation:\")\n",
    "print(\"1. Addition\")\n",
    "print(\"2. Subtraction\")\n",
    "print(\"3. Multiplication\")\n",
    "print(\"4. Division\")\n",
    "\n",
    "# Get operation choice from the user\n",
    "choice = input(\"Enter choice (1/2/3/4): \")\n",
    "\n",
    "# Perform the calculation based on the user's choice\n",
    "if choice == '1':\n",
    "    result = add(num1, num2)\n",
    "    operation = '+'\n",
    "elif choice == '2':\n",
    "    result = subtract(num1, num2)\n",
    "    operation = '-'\n",
    "elif choice == '3':\n",
    "    result = multiply(num1, num2)\n",
    "    operation = '*'\n",
    "elif choice == '4':\n",
    "    result = divide(num1, num2)\n",
    "    operation = '/'\n",
    "else:\n",
    "    print(\"Invalid Input\")\n",
    "    exit()\n",
    "\n",
    "# Display the result\n",
    "if isinstance(result, str):\n",
    "    print(result)\n",
    "else:\n",
    "    print(\"The Answer is:- \"f\"{num1} {operation} {num2} = {result}\")\n"
   ]
  },
  {
   "cell_type": "markdown",
   "id": "b90d5d29",
   "metadata": {},
   "source": [
    "#### Thankyou !"
   ]
  },
  {
   "cell_type": "code",
   "execution_count": null,
   "id": "d51a4979",
   "metadata": {},
   "outputs": [],
   "source": []
  },
  {
   "cell_type": "code",
   "execution_count": null,
   "id": "5aaefff2",
   "metadata": {},
   "outputs": [],
   "source": []
  },
  {
   "cell_type": "code",
   "execution_count": null,
   "id": "905b3d0d",
   "metadata": {},
   "outputs": [],
   "source": []
  },
  {
   "cell_type": "code",
   "execution_count": null,
   "id": "c8e4af30",
   "metadata": {},
   "outputs": [],
   "source": []
  },
  {
   "cell_type": "code",
   "execution_count": null,
   "id": "66aeef5a",
   "metadata": {},
   "outputs": [],
   "source": []
  }
 ],
 "metadata": {
  "kernelspec": {
   "display_name": "Python 3 (ipykernel)",
   "language": "python",
   "name": "python3"
  },
  "language_info": {
   "codemirror_mode": {
    "name": "ipython",
    "version": 3
   },
   "file_extension": ".py",
   "mimetype": "text/x-python",
   "name": "python",
   "nbconvert_exporter": "python",
   "pygments_lexer": "ipython3",
   "version": "3.11.5"
  }
 },
 "nbformat": 4,
 "nbformat_minor": 5
}
